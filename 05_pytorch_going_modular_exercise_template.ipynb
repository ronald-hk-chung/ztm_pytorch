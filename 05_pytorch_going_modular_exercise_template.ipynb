{
  "nbformat": 4,
  "nbformat_minor": 0,
  "metadata": {
    "colab": {
      "provenance": [],
      "gpuType": "T4",
      "include_colab_link": true
    },
    "kernelspec": {
      "name": "python3",
      "display_name": "Python 3"
    },
    "language_info": {
      "name": "python"
    },
    "accelerator": "GPU"
  },
  "cells": [
    {
      "cell_type": "markdown",
      "metadata": {
        "id": "view-in-github",
        "colab_type": "text"
      },
      "source": [
        "<a href=\"https://colab.research.google.com/github/ronald-hk-chung/ztm_pytorch/blob/master/05_pytorch_going_modular_exercise_template.ipynb\" target=\"_parent\"><img src=\"https://colab.research.google.com/assets/colab-badge.svg\" alt=\"Open In Colab\"/></a>"
      ]
    },
    {
      "cell_type": "markdown",
      "source": [
        "# 05. PyTorch Going Modular Exercises\n",
        "\n",
        "Welcome to the 05. PyTorch Going Modular exercise template notebook.\n",
        "\n",
        "There are several questions in this notebook and it's your goal to answer them by writing Python and PyTorch code.\n",
        "\n",
        "> **Note:** There may be more than one solution to each of the exercises, don't worry too much about the *exact* right answer. Try to write some code that works first and then improve it if you can.\n",
        "\n",
        "## Resources and solutions\n",
        "\n",
        "* These exercises/solutions are based on [section 05. PyTorch Going Modular](https://www.learnpytorch.io/05_pytorch_going_modular/) of the Learn PyTorch for Deep Learning course by Zero to Mastery.\n",
        "\n",
        "**Solutions:**\n",
        "\n",
        "Try to complete the code below *before* looking at these.\n",
        "\n",
        "* See a live [walkthrough of the solutions (errors and all) on YouTube](https://youtu.be/ijgFhMK3pp4).\n",
        "* See an example [solutions notebook for these exercises on GitHub](https://github.com/mrdbourke/pytorch-deep-learning/blob/main/extras/solutions/05_pytorch_going_modular_exercise_solutions.ipynb)."
      ],
      "metadata": {
        "id": "zNqPNlYylluR"
      }
    },
    {
      "cell_type": "markdown",
      "source": [
        "## 1. Turn the code to get the data (from section 1. Get Data) into a Python script, such as `get_data.py`.\n",
        "\n",
        "* When you run the script using `python get_data.py` it should check if the data already exists and skip downloading if it does.\n",
        "* If the data download is successful, you should be able to access the `pizza_steak_sushi` images from the `data` directory."
      ],
      "metadata": {
        "id": "bicbWSrPmfTU"
      }
    },
    {
      "cell_type": "code",
      "source": [
        "from google.colab import drive\n",
        "drive.mount('/content/drive')"
      ],
      "metadata": {
        "id": "r0BCn1XIYZ8c",
        "colab": {
          "base_uri": "https://localhost:8080/"
        },
        "outputId": "e1aec802-c725-473d-b411-99e595c3806c"
      },
      "execution_count": 1,
      "outputs": [
        {
          "output_type": "stream",
          "name": "stdout",
          "text": [
            "Mounted at /content/drive\n"
          ]
        }
      ]
    },
    {
      "cell_type": "code",
      "source": [
        "import pathlib\n",
        "module_path = pathlib.Path('modules')\n",
        "module_path.mkdir(parents=True, exist_ok=True)"
      ],
      "metadata": {
        "id": "RLsfeVE1C7AS"
      },
      "execution_count": 2,
      "outputs": []
    },
    {
      "cell_type": "code",
      "source": [
        "%%writefile modules/walk_through_dir.py\n",
        "'''\n",
        "Contains code to walk through directories\n",
        "'''\n",
        "import os\n",
        "\n",
        "def walk_through_dir(dir_path):\n",
        "  \"\"\"\n",
        "  Walks through dir_path returning its contents.\n",
        "  Args:\n",
        "    dir_path (str): target directory\n",
        "\n",
        "  Returns:\n",
        "    A print out of:\n",
        "      number of subdiretories in dir_path\n",
        "      number of images (files) in each subdirectory\n",
        "      name of each subdirectory\n",
        "  \"\"\"\n",
        "  for dirpath, dirnames, filenames in os.walk(dir_path):\n",
        "    print(f\"There are {len(dirnames)} directories and {len(filenames)} images in '{dirpath}'.\")"
      ],
      "metadata": {
        "colab": {
          "base_uri": "https://localhost:8080/"
        },
        "id": "hQEFTIn5FT_3",
        "outputId": "bad661a4-5a88-4673-8001-36e5ece30d5e"
      },
      "execution_count": 3,
      "outputs": [
        {
          "output_type": "stream",
          "name": "stdout",
          "text": [
            "Writing modules/walk_through_dir.py\n"
          ]
        }
      ]
    },
    {
      "cell_type": "code",
      "source": [
        "%%writefile modules/unzip_image.py\n",
        "'''\n",
        "Functions to Unzip --zippath to --target\n",
        "'''\n",
        "import os\n",
        "import pathlib\n",
        "import shutil\n",
        "import zipfile\n",
        "import argparse\n",
        "import walk_through_dir\n",
        "\n",
        "# Setting up the arg parser\n",
        "parser = argparse.ArgumentParser()\n",
        "parser.add_argument('--target', type=str, required=True)\n",
        "parser.add_argument('--zippath', type=str, required=True)\n",
        "args = parser.parse_args()\n",
        "\n",
        "# Creating target directory\n",
        "data_path = pathlib.Path(args.target)\n",
        "data_path.mkdir(parents=True, exist_ok=True)\n",
        "print(f'{data_path} created')\n",
        "\n",
        "# Copying and zipref to target\n",
        "shutil.copy2(src=str(args.zippath),\n",
        "             dst=str(data_path / 'zipref.zip'))\n",
        "print(f'Copied... {args.zippath} --> {data_path}')\n",
        "\n",
        "with zipfile.ZipFile(data_path / 'zipref.zip') as zip_ref:\n",
        "  zip_ref.extractall(data_path)\n",
        "  print(f'Unzipped Files to {data_path}')\n",
        "\n",
        "# Removing zipref\n",
        "os.remove(data_path / 'zipref.zip')\n",
        "\n",
        "# Walkthrough data_path\n",
        "walk_through_dir.walk_through_dir(data_path)"
      ],
      "metadata": {
        "colab": {
          "base_uri": "https://localhost:8080/"
        },
        "id": "IJW2Je_79JBg",
        "outputId": "6070623b-ae18-49eb-c07a-66bd29cff417"
      },
      "execution_count": 4,
      "outputs": [
        {
          "output_type": "stream",
          "name": "stdout",
          "text": [
            "Writing modules/unzip_image.py\n"
          ]
        }
      ]
    },
    {
      "cell_type": "code",
      "source": [
        "!python modules/unzip_image.py --target 'data/pizza_steak_sushi' --zippath '/content/drive/MyDrive/ML/ZTM PyTorch/data/pizza_steak_sushi_100_percent.zip'"
      ],
      "metadata": {
        "colab": {
          "base_uri": "https://localhost:8080/"
        },
        "id": "AmceEZs7DKNs",
        "outputId": "a20cdc26-cdc4-46f9-8770-8a262e12aeb7"
      },
      "execution_count": 5,
      "outputs": [
        {
          "output_type": "stream",
          "name": "stdout",
          "text": [
            "data/pizza_steak_sushi created\n",
            "Copied... /content/drive/MyDrive/ML/ZTM PyTorch/data/pizza_steak_sushi_100_percent.zip --> data/pizza_steak_sushi\n",
            "Unzipped Files to data/pizza_steak_sushi\n",
            "There are 2 directories and 0 images in 'data/pizza_steak_sushi'.\n",
            "There are 3 directories and 0 images in 'data/pizza_steak_sushi/test'.\n",
            "There are 0 directories and 194 images in 'data/pizza_steak_sushi/test/pizza'.\n",
            "There are 0 directories and 209 images in 'data/pizza_steak_sushi/test/sushi'.\n",
            "There are 0 directories and 197 images in 'data/pizza_steak_sushi/test/steak'.\n",
            "There are 3 directories and 0 images in 'data/pizza_steak_sushi/train'.\n",
            "There are 0 directories and 806 images in 'data/pizza_steak_sushi/train/pizza'.\n",
            "There are 0 directories and 791 images in 'data/pizza_steak_sushi/train/sushi'.\n",
            "There are 0 directories and 803 images in 'data/pizza_steak_sushi/train/steak'.\n"
          ]
        }
      ]
    },
    {
      "cell_type": "markdown",
      "source": [
        "## 2. Use [Python's `argparse` module](https://docs.python.org/3/library/argparse.html) to be able to send the `train.py` custom hyperparameter values for training procedures.\n",
        "* Add an argument flag for using a different:\n",
        "  * Training/testing directory\n",
        "  * Learning rate\n",
        "  * Batch size\n",
        "  * Number of epochs to train for\n",
        "  * Number of hidden units in the TinyVGG model\n",
        "    * Keep the default values for each of the above arguments as what they already are (as in notebook 05).\n",
        "* For example, you should be able to run something similar to the following line to train a TinyVGG model with a learning rate of 0.003 and a batch size of 64 for 20 epochs: `python train.py --learning_rate 0.003 batch_size 64 num_epochs 20`.\n",
        "* **Note:** Since `train.py` leverages the other scripts we created in section 05, such as, `model_builder.py`, `utils.py` and `engine.py`, you'll have to make sure they're available to use too. You can find these in the [`going_modular` folder on the course GitHub](https://github.com/mrdbourke/pytorch-deep-learning/tree/main/going_modular/going_modular)."
      ],
      "metadata": {
        "id": "zjyn7LU3mvkR"
      }
    },
    {
      "cell_type": "code",
      "source": [
        "%%writefile modules/data_setup.py\n",
        "'''\n",
        "Contains functionality for creating Pytorch DataLoaders for\n",
        "image classification data following torchvision.datasets.ImageFolder\n",
        "'''\n",
        "\n",
        "import os\n",
        "import torch\n",
        "from torch.utils.data import DataLoader\n",
        "from torchvision import datasets, transforms\n",
        "\n",
        "NUM_WORKERS = os.cpu_count()\n",
        "\n",
        "def create_dataloaders(train_dir: str,\n",
        "                       test_dir: str,\n",
        "                       transform: transforms.Compose,\n",
        "                       batch_size: int,\n",
        "                       num_workers: int=NUM_WORKERS) -> tuple[DataLoader, DataLoader, list[str], dict[str, int]]:\n",
        "  \"\"\"Creates training and testing DataLoaders.\n",
        "\n",
        "  Takes in a training directory and testing directory path and turns\n",
        "  them into PyTorch Datasets and then into PyTorch DataLoaders.\n",
        "\n",
        "  Args:\n",
        "    train_dir: Path to training directory.\n",
        "    test_dir: Path to testing directory.\n",
        "    transform: torchvision transforms to perform on training and testing data.\n",
        "    batch_size: Number of samples per batch in each of the DataLoaders.\n",
        "    num_workers: An integer for number of workers per DataLoader.\n",
        "\n",
        "  Returns:\n",
        "    A tuple of (train_dataloader, test_dataloader, class_names).\n",
        "    Where class_names is a list of the target classes.\n",
        "    Example usage:\n",
        "      train_dataloader, test_dataloader, class_names = \\\n",
        "        = create_dataloaders(train_dir=path/to/train_dir,\n",
        "                             test_dir=path/to/test_dir,\n",
        "                             transform=some_transform,\n",
        "                             batch_size=32,\n",
        "                             num_workers=4)\n",
        "  \"\"\"\n",
        "  # Use ImageFolder to create datasets\n",
        "  train_data = datasets.ImageFolder(root=train_dir, transform=transform)\n",
        "  test_data = datasets.ImageFolder(root=test_dir, transform=transform)\n",
        "\n",
        "  # Get class_names and class_dict\n",
        "  class_names = train_data.classes\n",
        "  class_dict = train_data.class_to_idx\n",
        "\n",
        "  # Turn images into DataLoaders\n",
        "  train_dataloader = DataLoader(dataset=train_data,\n",
        "                                batch_size=batch_size,\n",
        "                                shuffle=True,\n",
        "                                num_workers=num_workers,\n",
        "                                pin_memory=True)\n",
        "  test_dataloader = DataLoader(dataset=test_data,\n",
        "                               batch_size=batch_size,\n",
        "                               shuffle=False,\n",
        "                               num_workers=num_workers,\n",
        "                               pin_memory=True)\n",
        "\n",
        "  return train_dataloader, test_dataloader, class_names, class_dict"
      ],
      "metadata": {
        "id": "MKNDUp45YaW-",
        "colab": {
          "base_uri": "https://localhost:8080/"
        },
        "outputId": "0ef1917c-543e-4016-f6f9-51c92a918b95"
      },
      "execution_count": 6,
      "outputs": [
        {
          "output_type": "stream",
          "name": "stdout",
          "text": [
            "Writing modules/data_setup.py\n"
          ]
        }
      ]
    },
    {
      "cell_type": "code",
      "source": [
        "%%writefile modules/model_builder.py\n",
        "\"\"\"\n",
        "Contains PyTorch model code to instantiate a TinyVGG model.\n",
        "\"\"\"\n",
        "import torch\n",
        "from torch import nn\n",
        "\n",
        "class TinyVGG(nn.Module):\n",
        "  \"\"\"Creates the TinyVGG architecture.\n",
        "\n",
        "  Replicates the TinyVGG architecture from the CNN explainer website in PyTorch.\n",
        "  See the original architecture here: https://poloclub.github.io/cnn-explainer/\n",
        "\n",
        "  Args:\n",
        "  input_shape: An integer indicating number of input channels.\n",
        "  hidden_units: An integer indicating number of hidden units between layers.\n",
        "  output_shape: An integer indicating number of output units.\n",
        "  \"\"\"\n",
        "  def __init__(self, input_shape: int, hidden_units: int, output_shape: int) -> None:\n",
        "      super().__init__()\n",
        "      self.conv_block_1 = nn.Sequential(\n",
        "        nn.Conv2d(in_channels=input_shape,\n",
        "                  out_channels=hidden_units,\n",
        "                  kernel_size=3,\n",
        "                  stride=1,\n",
        "                  padding=0),\n",
        "        nn.ReLU(),\n",
        "        nn.Conv2d(in_channels=hidden_units,\n",
        "                  out_channels=hidden_units,\n",
        "                  kernel_size=3,\n",
        "                  stride=1,\n",
        "                  padding=0),\n",
        "        nn.ReLU(),\n",
        "        nn.MaxPool2d(kernel_size=2,\n",
        "                      stride=2)\n",
        "      )\n",
        "      self.conv_block_2 = nn.Sequential(\n",
        "        nn.Conv2d(hidden_units, hidden_units, kernel_size=3, padding=0),\n",
        "        nn.ReLU(),\n",
        "        nn.Conv2d(hidden_units, hidden_units, kernel_size=3, padding=0),\n",
        "        nn.ReLU(),\n",
        "        nn.MaxPool2d(2)\n",
        "      )\n",
        "      self.classifier = nn.Sequential(\n",
        "        nn.Flatten(),\n",
        "        # Where did this in_features shape come from?\n",
        "        # It's because each layer of our network compresses and changes the shape of our inputs data.\n",
        "        nn.Linear(in_features=hidden_units*13*13,\n",
        "                  out_features=output_shape)\n",
        "      )\n",
        "\n",
        "  def forward(self, x: torch.Tensor):\n",
        "      x = self.conv_block_1(x)\n",
        "      x = self.conv_block_2(x)\n",
        "      x = self.classifier(x)\n",
        "      return x"
      ],
      "metadata": {
        "colab": {
          "base_uri": "https://localhost:8080/"
        },
        "id": "kKg_EWF7NAoM",
        "outputId": "725468b3-76f7-4741-85d7-ae7d370a931f"
      },
      "execution_count": 7,
      "outputs": [
        {
          "output_type": "stream",
          "name": "stdout",
          "text": [
            "Writing modules/model_builder.py\n"
          ]
        }
      ]
    },
    {
      "cell_type": "code",
      "source": [
        "try:\n",
        "  import torchmetrics\n",
        "except:\n",
        "  !pip install -q torchmetrics\n",
        "  import torchmetrics"
      ],
      "metadata": {
        "colab": {
          "base_uri": "https://localhost:8080/"
        },
        "id": "iq9_FO4fO6n-",
        "outputId": "7e6da665-32a9-4834-d64c-7f3e8873a970"
      },
      "execution_count": 8,
      "outputs": [
        {
          "output_type": "stream",
          "name": "stdout",
          "text": [
            "\u001b[?25l     \u001b[90m━━━━━━━━━━━━━━━━━━━━━━━━━━━━━━━━━━━━━━━━\u001b[0m \u001b[32m0.0/806.1 kB\u001b[0m \u001b[31m?\u001b[0m eta \u001b[36m-:--:--\u001b[0m\r\u001b[2K     \u001b[91m━━━━━━━━\u001b[0m\u001b[91m╸\u001b[0m\u001b[90m━━━━━━━━━━━━━━━━━━━━━━━━━━━━━━━\u001b[0m \u001b[32m174.1/806.1 kB\u001b[0m \u001b[31m5.6 MB/s\u001b[0m eta \u001b[36m0:00:01\u001b[0m\r\u001b[2K     \u001b[91m━━━━━━━━━━━━━━━━━━━━━━━━━━━━━\u001b[0m\u001b[90m╺\u001b[0m\u001b[90m━━━━━━━━━━\u001b[0m \u001b[32m593.9/806.1 kB\u001b[0m \u001b[31m8.8 MB/s\u001b[0m eta \u001b[36m0:00:01\u001b[0m\r\u001b[2K     \u001b[90m━━━━━━━━━━━━━━━━━━━━━━━━━━━━━━━━━━━━━━━━\u001b[0m \u001b[32m806.1/806.1 kB\u001b[0m \u001b[31m8.6 MB/s\u001b[0m eta \u001b[36m0:00:00\u001b[0m\n",
            "\u001b[?25h"
          ]
        }
      ]
    },
    {
      "cell_type": "code",
      "source": [
        "%%writefile modules/engine.py\n",
        "\"\"\"\n",
        "Contains functions for training and testing a PyTorch model.\n",
        "\"\"\"\n",
        "\n",
        "import torch\n",
        "import torchmetrics\n",
        "from tqdm.auto import tqdm\n",
        "\n",
        "\n",
        "def train_step(model: torch.nn.Module,\n",
        "               dataloader: torch.utils.data.DataLoader,\n",
        "               loss_fn: torch.nn.Module,\n",
        "               optimizer: torch.optim.Optimizer,\n",
        "               device: torch.device) -> tuple[float, float]:\n",
        "  '''Trains a PyTorch model for a single epoch.\n",
        "\n",
        "  Turns a target PyTorch model to training mode and then\n",
        "  runs through all of the required training steps (forward\n",
        "  pass, loss calculation, optimizer step).\n",
        "\n",
        "  Args:\n",
        "  model: A PyTorch model to be trained.\n",
        "  dataloader: A DataLoader instance for the model to be trained on.\n",
        "  loss_fn: A PyTorch loss function to minimize.\n",
        "  optimizer: A PyTorch optimizer to help minimize the loss function.\n",
        "  device: A target device to compute on (e.g. \"cuda\" or \"cpu\").\n",
        "\n",
        "  Returns:\n",
        "  A tuple of training loss and training accuracy metrics.\n",
        "  In the form (train_loss, train_accuracy). For example:\n",
        "\n",
        "  (0.1112, 0.8743)\n",
        "  '''\n",
        "  # Put model in train mode\n",
        "  model.train()\n",
        "\n",
        "  # Setup train loss and train accuracy value\n",
        "  train_loss, train_acc = 0, 0\n",
        "\n",
        "  # Loop through data loader data batches\n",
        "  for batch, (X, y) in enumerate(dataloader):\n",
        "    # Send data to target device\n",
        "    X, y = X.to(device), y.to(device)\n",
        "\n",
        "    # Forward Pass\n",
        "    y_logits = model(X)\n",
        "\n",
        "    # Calculate and accumulate train_loss/train_acc\n",
        "    loss = loss_fn(y_logits, y)\n",
        "    train_loss += loss.item()\n",
        "    acc = (y_logits.softmax(dim=1).argmax(dim=1)==y).sum().item()/len(y)\n",
        "    train_acc += acc\n",
        "\n",
        "    # Optimizer zero grad\n",
        "    optimizer.zero_grad()\n",
        "\n",
        "    # Loss backward\n",
        "    loss.backward()\n",
        "\n",
        "    # Optimzer step\n",
        "    optimizer.step()\n",
        "\n",
        "  # Caclulate and accumulate accuracy metrics across all batches\n",
        "  train_loss /= len(dataloader)\n",
        "  train_acc /= len(dataloader)\n",
        "\n",
        "  return train_loss, train_acc\n",
        "\n",
        "\n",
        "def test_step(model: torch.nn.Module,\n",
        "              dataloader: torch.utils.data.DataLoader,\n",
        "              loss_fn: torch.nn.Module,\n",
        "              device: torch.device) -> tuple[float, float]:\n",
        "  \"\"\"Tests a PyTorch model for a single epoch.\n",
        "\n",
        "  Turns a target PyTorch model to \"eval\" mode and then performs\n",
        "  a forward pass on a testing dataset.\n",
        "\n",
        "  Args:\n",
        "  model: A PyTorch model to be tested.\n",
        "  dataloader: A DataLoader instance for the model to be tested on.\n",
        "  loss_fn: A PyTorch loss function to calculate loss on the test data.\n",
        "  device: A target device to compute on (e.g. \"cuda\" or \"cpu\").\n",
        "\n",
        "  Returns:\n",
        "  A tuple of testing loss and testing accuracy metrics.\n",
        "  In the form (test_loss, test_accuracy). For example:\n",
        "\n",
        "  (0.0223, 0.8985)\n",
        "  \"\"\"\n",
        "  # Put model to eval mode\n",
        "  model.eval()\n",
        "\n",
        "  # Setup test loss and test accuracy values\n",
        "  test_loss, test_acc = 0, 0\n",
        "\n",
        "  # Turn on inference context manager\n",
        "  with torch.inference_mode():\n",
        "    # Loop through DataLoader batches\n",
        "    for batch, (X, y) in enumerate(dataloader):\n",
        "      # Send data to target device\n",
        "      X, y = X.to(device), y.to(device)\n",
        "\n",
        "      # Forward pass\n",
        "      y_logits = model(X)\n",
        "\n",
        "      # Calculate and accumulate loss/acc\n",
        "      loss = loss_fn(y_logits, y)\n",
        "      test_loss += loss.item()\n",
        "      acc = (y_logits.softmax(dim=1).argmax(dim=1)==y).sum().item()/len(y)\n",
        "      test_acc += acc\n",
        "\n",
        "  # Adjust metrics to get average loss and accuracy per batch\n",
        "  test_loss /= len(dataloader)\n",
        "  test_acc /= len(dataloader)\n",
        "\n",
        "  return test_loss, test_acc\n",
        "\n",
        "\n",
        "def train(model: torch.nn.Module,\n",
        "          train_dataloader: torch.utils.data.DataLoader,\n",
        "          test_dataloader: torch.utils.data.DataLoader,\n",
        "          optimizer: torch.optim.Optimizer,\n",
        "          loss_fn: torch.nn.Module,\n",
        "          epochs: int,\n",
        "          device: torch.device) -> dict[str, list[float]]:\n",
        "  \"\"\"Trains and tests a PyTorch model.\n",
        "\n",
        "  Passes a target PyTorch models through train_step() and test_step()\n",
        "  functions for a number of epochs, training and testing the model\n",
        "  in the same epoch loop.\n",
        "\n",
        "  Calculates, prints and stores evaluation metrics throughout.\n",
        "\n",
        "  Args:\n",
        "  model: A PyTorch model to be trained and tested.\n",
        "  train_dataloader: A DataLoader instance for the model to be trained on.\n",
        "  test_dataloader: A DataLoader instance for the model to be tested on.\n",
        "  optimizer: A PyTorch optimizer to help minimize the loss function.\n",
        "  loss_fn: A PyTorch loss function to calculate loss on both datasets.\n",
        "  epochs: An integer indicating how many epochs to train for.\n",
        "  device: A target device to compute on (e.g. \"cuda\" or \"cpu\").\n",
        "\n",
        "  Returns:\n",
        "  A dictionary of training and testing loss as well as training and\n",
        "  testing accuracy metrics. Each metric has a value in a list for\n",
        "  each epoch.\n",
        "  In the form: {train_loss: [...],\n",
        "            train_acc: [...],\n",
        "            test_loss: [...],\n",
        "            test_acc: [...]}\n",
        "  For example if training for epochs=2:\n",
        "            {train_loss: [2.0616, 1.0537],\n",
        "            train_acc: [0.3945, 0.3945],\n",
        "            test_loss: [1.2641, 1.5706],\n",
        "            test_acc: [0.3400, 0.2973]}\n",
        "  \"\"\"\n",
        "  # Create empty results dictionary\n",
        "  results = {'train_loss': [],\n",
        "             'train_acc': [],\n",
        "             'test_loss': [],\n",
        "             'test_acc': []}\n",
        "\n",
        "  #Loop through training and testing steps for a number of epochs\n",
        "  for epoch in tqdm(range(epochs), total=epochs):\n",
        "    train_loss, train_acc = train_step(model=model,\n",
        "                                       dataloader=train_dataloader,\n",
        "                                       loss_fn=loss_fn,\n",
        "                                       optimizer=optimizer,\n",
        "                                       device=device)\n",
        "    test_loss, test_acc = test_step(model=model,\n",
        "                                     dataloader=test_dataloader,\n",
        "                                     loss_fn=loss_fn,\n",
        "                                     device=device)\n",
        "\n",
        "    # Print out results\n",
        "    print(\n",
        "        f'\\nEpoch: {epoch+1} |'\n",
        "        f'train_loss: {train_loss:.4f} |'\n",
        "        f'train_acc: {train_acc:.4f} |'\n",
        "        f'test_loss: {test_loss:.4f} |'\n",
        "        f'test_acc: {test_acc:.4f}'\n",
        "    )\n",
        "\n",
        "    # Update results dictionary\n",
        "    results['train_loss'].append(train_loss)\n",
        "    results['train_acc'].append(train_acc)\n",
        "    results['test_loss'].append(test_loss)\n",
        "    results['test_acc'].append(test_acc)\n",
        "\n",
        "  #Return the filled results\n",
        "  return results"
      ],
      "metadata": {
        "colab": {
          "base_uri": "https://localhost:8080/"
        },
        "id": "jlLfqaBeN7eY",
        "outputId": "950d419c-24fe-4b09-e2eb-a153ab6d82aa"
      },
      "execution_count": 9,
      "outputs": [
        {
          "output_type": "stream",
          "name": "stdout",
          "text": [
            "Writing modules/engine.py\n"
          ]
        }
      ]
    },
    {
      "cell_type": "code",
      "source": [
        "%%writefile modules/utils.py\n",
        "\"\"\"\n",
        "Contains various utility functions for PyTorch model training and saving.\n",
        "\"\"\"\n",
        "import torch\n",
        "from pathlib import Path\n",
        "def save_model(model: torch.nn.Module,\n",
        "              target_dir: str,\n",
        "              model_name: str):\n",
        "  \"\"\"Saves a PyTorch model to a target directory.\n",
        "\n",
        "  Args:\n",
        "  model: A target PyTorch model to save.\n",
        "  target_dir: A directory for saving the model to.\n",
        "  model_name: A filename for the saved model. Should include\n",
        "    either \".pth\" or \".pt\" as the file extension.\n",
        "\n",
        "  Example usage:\n",
        "  save_model(model=model_0,\n",
        "              target_dir=\"models\",\n",
        "              model_name=\"05_going_modular_tingvgg_model.pth\")\n",
        "  \"\"\"\n",
        "  # Create target directory\n",
        "  target_dir_path = Path(target_dir)\n",
        "  target_dir_path.mkdir(parents=True, exist_ok=True)\n",
        "\n",
        "  # Create model save path\n",
        "  model_save_path = target_dir_path / model_name\n",
        "\n",
        "  # Save the model state_dict()\n",
        "  print(f'Saving model to: {model_save_path}')\n",
        "  torch.save(obj=model.state_dict(),\n",
        "             f=model_save_path)"
      ],
      "metadata": {
        "colab": {
          "base_uri": "https://localhost:8080/"
        },
        "id": "ox_nQc9ckTqo",
        "outputId": "06636b59-5f30-440f-a47e-e1a1048312f4"
      },
      "execution_count": 10,
      "outputs": [
        {
          "output_type": "stream",
          "name": "stdout",
          "text": [
            "Writing modules/utils.py\n"
          ]
        }
      ]
    },
    {
      "cell_type": "code",
      "source": [
        "try:\n",
        "  import torchinfo\n",
        "except:\n",
        "  !pip install -q torchinfo\n",
        "  import torchinfo"
      ],
      "metadata": {
        "id": "6jr7v_rfyc8S"
      },
      "execution_count": 11,
      "outputs": []
    },
    {
      "cell_type": "code",
      "source": [
        "%%writefile modules/train.py\n",
        "'''\n",
        "Trains a Pytorch image classification model using device-agnostic code.\n",
        "'''\n",
        "import os\n",
        "import torch\n",
        "from torchvision import transforms\n",
        "import data_setup, engine, model_builder, utils\n",
        "import torchinfo\n",
        "import argparse\n",
        "\n",
        "# Setting up the arg parser\n",
        "parser = argparse.ArgumentParser()\n",
        "parser.add_argument('--epochs', type=int, required=True)\n",
        "parser.add_argument('--batch_size', type=int, required=True)\n",
        "parser.add_argument('--hidden_units', type=int, required=True)\n",
        "parser.add_argument('--learning_rate', type=float, required=True)\n",
        "parser.add_argument('--data_dir', type=str, required=True)\n",
        "parser.add_argument('--transform_resize', type=int, required=True)\n",
        "parser.add_argument('--savemodel_name', type=str, required=True)\n",
        "args = parser.parse_args()\n",
        "\n",
        "\n",
        "# Setup hyperparameters\n",
        "NUM_EPOCHS = args.epochs\n",
        "BATCH_SIZE = args.batch_size\n",
        "HIDDEN_UNITS = args.hidden_units\n",
        "LEARNING_RATE = args.learning_rate\n",
        "TRANSFORM_RESIZE = args.transform_resize\n",
        "\n",
        "# Setup directories\n",
        "data_dir = args.data_dir\n",
        "train_dir = data_dir + '/train'\n",
        "test_dir = data_dir + '/test'\n",
        "savemodel_name = args.savemodel_name\n",
        "\n",
        "# Setup target device\n",
        "device = 'cuda' if torch.cuda.is_available() else 'cpu'\n",
        "\n",
        "# Create transforms\n",
        "data_transform = transforms.Compose([transforms.Resize(size=(TRANSFORM_RESIZE, TRANSFORM_RESIZE)),\n",
        "                                     transforms.ToTensor()])\n",
        "\n",
        "# Create DataLoaders with help from data_setup.py\n",
        "train_dataloader, test_dataloader, class_names, class_dict = \\\n",
        "data_setup.create_dataloaders(train_dir=train_dir,\n",
        "                              test_dir=test_dir,\n",
        "                              transform=data_transform,\n",
        "                              batch_size=BATCH_SIZE)\n",
        "\n",
        "# Create model with help from model_builder.py\n",
        "model = model_builder.TinyVGG(input_shape=3,\n",
        "                              hidden_units=HIDDEN_UNITS,\n",
        "                              output_shape=len(class_names)\n",
        "                              ).to(device)\n",
        "\n",
        "torchinfo.summary(model, input_size=next(iter(train_dataloader))[0].shape)\n",
        "\n",
        "# Set loss and optimizer\n",
        "loss_fn = torch.nn.CrossEntropyLoss()\n",
        "optimizer = torch.optim.Adam(params=model.parameters(),\n",
        "                             lr=LEARNING_RATE)\n",
        "\n",
        "# Start training with help from engine.py\n",
        "engine.train(model=model,\n",
        "             train_dataloader=train_dataloader,\n",
        "             test_dataloader=test_dataloader,\n",
        "             loss_fn=loss_fn,\n",
        "             optimizer=optimizer,\n",
        "             epochs=NUM_EPOCHS,\n",
        "             device=device)\n",
        "\n",
        "# Save the model with help from utils.py\n",
        "utils.save_model(model=model,\n",
        "                 target_dir='models',\n",
        "                 model_name=savemodel_name)\n"
      ],
      "metadata": {
        "colab": {
          "base_uri": "https://localhost:8080/"
        },
        "id": "ELjLwoN2lscq",
        "outputId": "2cd346f3-aaba-4241-f8a7-6af2dfc8aa29"
      },
      "execution_count": 12,
      "outputs": [
        {
          "output_type": "stream",
          "name": "stdout",
          "text": [
            "Writing modules/train.py\n"
          ]
        }
      ]
    },
    {
      "cell_type": "code",
      "source": [
        "!python modules/train.py --data_dir 'data/pizza_steak_sushi' --savemodel_name 'pizza_steak_sushi_tinyvgg.pth' \\\n",
        "--epochs 20 --batch_size 32 --hidden_units 10 --learning_rate=0.001 --transform_resize 64"
      ],
      "metadata": {
        "colab": {
          "base_uri": "https://localhost:8080/"
        },
        "id": "75fvq2c1pldK",
        "outputId": "fce1ec82-917d-43ce-946a-230754eeb6ac"
      },
      "execution_count": 14,
      "outputs": [
        {
          "output_type": "stream",
          "name": "stdout",
          "text": [
            "==========================================================================================\n",
            "Layer (type:depth-idx)                   Output Shape              Param #\n",
            "==========================================================================================\n",
            "TinyVGG                                  [32, 3]                   --\n",
            "├─Sequential: 1-1                        [32, 10, 30, 30]          --\n",
            "│    └─Conv2d: 2-1                       [32, 10, 62, 62]          280\n",
            "│    └─ReLU: 2-2                         [32, 10, 62, 62]          --\n",
            "│    └─Conv2d: 2-3                       [32, 10, 60, 60]          910\n",
            "│    └─ReLU: 2-4                         [32, 10, 60, 60]          --\n",
            "│    └─MaxPool2d: 2-5                    [32, 10, 30, 30]          --\n",
            "├─Sequential: 1-2                        [32, 10, 13, 13]          --\n",
            "│    └─Conv2d: 2-6                       [32, 10, 28, 28]          910\n",
            "│    └─ReLU: 2-7                         [32, 10, 28, 28]          --\n",
            "│    └─Conv2d: 2-8                       [32, 10, 26, 26]          910\n",
            "│    └─ReLU: 2-9                         [32, 10, 26, 26]          --\n",
            "│    └─MaxPool2d: 2-10                   [32, 10, 13, 13]          --\n",
            "├─Sequential: 1-3                        [32, 3]                   --\n",
            "│    └─Flatten: 2-11                     [32, 1690]                --\n",
            "│    └─Linear: 2-12                      [32, 3]                   5,073\n",
            "==========================================================================================\n",
            "Total params: 8,083\n",
            "Trainable params: 8,083\n",
            "Non-trainable params: 0\n",
            "Total mult-adds (M): 181.95\n",
            "==========================================================================================\n",
            "Input size (MB): 1.57\n",
            "Forward/backward pass size (MB): 22.80\n",
            "Params size (MB): 0.03\n",
            "Estimated Total Size (MB): 24.40\n",
            "==========================================================================================\n",
            "  0% 0/20 [00:00<?, ?it/s]\n",
            "Epoch: 1 |train_loss: 1.0960 |train_acc: 0.3492 |test_loss: 1.0562 |test_acc: 0.4633\n",
            "  5% 1/20 [00:07<02:16,  7.16s/it]\n",
            "Epoch: 2 |train_loss: 0.9480 |train_acc: 0.5454 |test_loss: 0.8947 |test_acc: 0.5757\n",
            " 10% 2/20 [00:17<02:40,  8.92s/it]\n",
            "Epoch: 3 |train_loss: 0.8625 |train_acc: 0.5988 |test_loss: 0.8542 |test_acc: 0.6042\n",
            " 15% 3/20 [00:24<02:17,  8.06s/it]\n",
            "Epoch: 4 |train_loss: 0.8236 |train_acc: 0.6338 |test_loss: 0.8259 |test_acc: 0.6173\n",
            " 20% 4/20 [00:35<02:27,  9.23s/it]\n",
            "Epoch: 5 |train_loss: 0.8075 |train_acc: 0.6412 |test_loss: 0.7933 |test_acc: 0.6628\n",
            " 25% 5/20 [00:42<02:06,  8.44s/it]\n",
            "Epoch: 6 |train_loss: 0.7842 |train_acc: 0.6504 |test_loss: 0.7856 |test_acc: 0.6354\n",
            " 30% 6/20 [00:52<02:06,  9.05s/it]\n",
            "Epoch: 7 |train_loss: 0.7637 |train_acc: 0.6750 |test_loss: 0.7983 |test_acc: 0.6491\n",
            " 35% 7/20 [00:59<01:49,  8.45s/it]\n",
            "Epoch: 8 |train_loss: 0.7366 |train_acc: 0.6825 |test_loss: 0.7550 |test_acc: 0.6754\n",
            " 40% 8/20 [01:11<01:52,  9.41s/it]\n",
            "Epoch: 9 |train_loss: 0.7085 |train_acc: 0.6979 |test_loss: 0.7857 |test_acc: 0.6557\n",
            " 45% 9/20 [01:18<01:35,  8.65s/it]\n",
            "Epoch: 10 |train_loss: 0.6981 |train_acc: 0.7042 |test_loss: 0.7637 |test_acc: 0.6524\n",
            " 50% 10/20 [01:28<01:31,  9.12s/it]\n",
            "Epoch: 11 |train_loss: 0.6672 |train_acc: 0.7208 |test_loss: 0.8308 |test_acc: 0.6442\n",
            " 55% 11/20 [01:35<01:17,  8.58s/it]\n",
            "Epoch: 12 |train_loss: 0.6347 |train_acc: 0.7388 |test_loss: 0.7925 |test_acc: 0.6442\n",
            " 60% 12/20 [01:46<01:12,  9.09s/it]\n",
            "Epoch: 13 |train_loss: 0.6309 |train_acc: 0.7358 |test_loss: 0.7878 |test_acc: 0.6546\n",
            " 65% 13/20 [01:53<00:59,  8.49s/it]\n",
            "Epoch: 14 |train_loss: 0.6032 |train_acc: 0.7533 |test_loss: 0.7753 |test_acc: 0.6497\n",
            " 70% 14/20 [02:03<00:54,  9.04s/it]\n",
            "Epoch: 15 |train_loss: 0.5729 |train_acc: 0.7592 |test_loss: 0.8019 |test_acc: 0.6557\n",
            " 75% 15/20 [02:10<00:42,  8.45s/it]\n",
            "Epoch: 16 |train_loss: 0.5626 |train_acc: 0.7638 |test_loss: 0.8602 |test_acc: 0.6371\n",
            " 80% 16/20 [02:21<00:36,  9.06s/it]\n",
            "Epoch: 17 |train_loss: 0.5556 |train_acc: 0.7771 |test_loss: 0.8096 |test_acc: 0.6541\n",
            " 85% 17/20 [02:28<00:25,  8.50s/it]\n",
            "Epoch: 18 |train_loss: 0.5450 |train_acc: 0.7750 |test_loss: 0.8484 |test_acc: 0.6321\n",
            " 90% 18/20 [02:38<00:18,  9.03s/it]\n",
            "Epoch: 19 |train_loss: 0.5200 |train_acc: 0.7825 |test_loss: 0.8740 |test_acc: 0.6376\n",
            " 95% 19/20 [02:45<00:08,  8.45s/it]\n",
            "Epoch: 20 |train_loss: 0.5050 |train_acc: 0.7858 |test_loss: 0.8449 |test_acc: 0.6272\n",
            "100% 20/20 [02:55<00:00,  8.79s/it]\n",
            "Saving model to: models/pizza_steak_sushi_tinyvgg.pth\n"
          ]
        }
      ]
    },
    {
      "cell_type": "markdown",
      "source": [
        "## 3. Create a Python script to predict (such as `predict.py`) on a target image given a file path with a saved model.\n",
        "\n",
        "* For example, you should be able to run the command `python predict.py some_image.jpeg` and have a trained PyTorch model predict on the image and return its prediction.\n",
        "* To see example prediction code, check out the [predicting on a custom image section in notebook 04](https://www.learnpytorch.io/04_pytorch_custom_datasets/#113-putting-custom-image-prediction-together-building-a-function).\n",
        "* You may also have to write code to load in a trained model."
      ],
      "metadata": {
        "id": "P2g6EEYvm-46"
      }
    },
    {
      "cell_type": "code",
      "source": [
        "%%writefile modules/predict.py\n",
        "\"\"\"\n",
        "Function to predict given filepath and modelpath base on TinyVGG\n",
        "\"\"\"\n",
        "import pathlib\n",
        "import model_builder\n",
        "import torch\n",
        "import torchvision\n",
        "from torchvision import transforms\n",
        "import matplotlib.pyplot as plt\n",
        "import argparse\n",
        "\n",
        "parser = argparse.ArgumentParser()\n",
        "parser.add_argument('--file', type=str, required=True)\n",
        "parser.add_argument('--model', type=str, required=True)\n",
        "args = parser.parse_args()\n",
        "\n",
        "FILE_PATH = args.file\n",
        "MODEL_PATH = args.model\n",
        "\n",
        "# Create model with help from model_builder.py\n",
        "model = model_builder.TinyVGG(input_shape=3,\n",
        "                              hidden_units=10,\n",
        "                              output_shape=3\n",
        "                              )\n",
        "\n",
        "# Load in the saved state_dict()\n",
        "model.load_state_dict(torch.load(f=MODEL_PATH))\n",
        "\n",
        "# Transform image using transform\n",
        "data_transform = transforms.Compose([transforms.Resize(size=(64, 64), antialias=True)])\n",
        "image_tensor = torchvision.io.read_image(str(FILE_PATH))\n",
        "image_transformed = data_transform(image_tensor.type(torch.float32))\n",
        "\n",
        "# Make prediction\n",
        "model.eval()\n",
        "with torch.inference_mode():\n",
        "  logits = model(image_transformed.unsqueeze(dim=0))\n",
        "print(logits)\n",
        "print(logits.softmax(dim=1))\n",
        "pred = logits.softmax(dim=1).argmax(dim=1).item()\n",
        "class_names = ['pizza', 'steak', 'sushi']\n",
        "pred_class = class_names[pred]\n",
        "pred_prob = logits.softmax(dim=1).squeeze()[pred]\n",
        "print(f'Prediction is {pred_class} with probabilities of {pred_prob*100}%')"
      ],
      "metadata": {
        "id": "HU7W6VZfYawP",
        "colab": {
          "base_uri": "https://localhost:8080/"
        },
        "outputId": "d5994927-c18d-4a31-ab65-a74370ecab15"
      },
      "execution_count": 15,
      "outputs": [
        {
          "output_type": "stream",
          "name": "stdout",
          "text": [
            "Writing modules/predict.py\n"
          ]
        }
      ]
    },
    {
      "cell_type": "code",
      "source": [
        "!python modules/predict.py \\\n",
        "--model 'models/pizza_sushi_steak_tinyvgg_model.pth' \\\n",
        "--file 'data/pizza_steak_sushi/test/sushi/106904.jpg'"
      ],
      "metadata": {
        "colab": {
          "base_uri": "https://localhost:8080/"
        },
        "id": "LRkJ8Es8PpQq",
        "outputId": "ad830528-1d79-42e8-be1f-31120510a03b"
      },
      "execution_count": 16,
      "outputs": [
        {
          "output_type": "stream",
          "name": "stdout",
          "text": [
            "Traceback (most recent call last):\n",
            "  File \"/content/modules/predict.py\", line 27, in <module>\n",
            "    model.load_state_dict(torch.load(f=MODEL_PATH))\n",
            "  File \"/usr/local/lib/python3.10/dist-packages/torch/serialization.py\", line 986, in load\n",
            "    with _open_file_like(f, 'rb') as opened_file:\n",
            "  File \"/usr/local/lib/python3.10/dist-packages/torch/serialization.py\", line 435, in _open_file_like\n",
            "    return _open_file(name_or_buffer, mode)\n",
            "  File \"/usr/local/lib/python3.10/dist-packages/torch/serialization.py\", line 416, in __init__\n",
            "    super().__init__(open(name, mode))\n",
            "FileNotFoundError: [Errno 2] No such file or directory: 'models/pizza_sushi_steak_tinyvgg_model.pth'\n"
          ]
        }
      ]
    },
    {
      "cell_type": "code",
      "source": [
        "import shutil\n",
        "import pathlib\n",
        "shutil.rmtree(path=pathlib.Path('/content/drive/MyDrive/ML/ZTM PyTorch/modules'))\n",
        "shutil.copytree(src=pathlib.Path('modules'),\n",
        "                dst=pathlib.Path('/content/drive/MyDrive/ML/ZTM PyTorch/modules'))"
      ],
      "metadata": {
        "colab": {
          "base_uri": "https://localhost:8080/"
        },
        "id": "u1-WgAwtMQh0",
        "outputId": "cddd7d02-92c5-43e2-e2ed-c336755ada02"
      },
      "execution_count": 20,
      "outputs": [
        {
          "output_type": "execute_result",
          "data": {
            "text/plain": [
              "PosixPath('/content/drive/MyDrive/ML/ZTM PyTorch/modules')"
            ]
          },
          "metadata": {},
          "execution_count": 20
        }
      ]
    },
    {
      "cell_type": "code",
      "source": [],
      "metadata": {
        "id": "FjBc0pPEUd9b"
      },
      "execution_count": null,
      "outputs": []
    }
  ]
}